{
 "cells": [
  {
   "cell_type": "code",
   "execution_count": null,
   "metadata": {
    "collapsed": true
   },
   "outputs": [],
   "source": [
    "import numpy as np\n",
    "import pandas as pd\n",
    "import matplotlib.mlab as mlab\n",
    "import matplotlib.pyplot as plt\n",
    "import statsmodels.api as sm\n",
    "import subprocess\n",
    "import os"
   ]
  },
  {
   "cell_type": "code",
   "execution_count": 436,
   "metadata": {},
   "outputs": [],
   "source": [
    "area_size=10\n",
    "area_discretization=10000\n",
    "time_end=1000\n",
    "time_step=10\n",
    "initial_pop=500\n",
    "birth_rate=6e-3\n",
    "death_rate=1e-5\n",
    "birth_var=2e-1\n",
    "death_var=0.001\n",
    "seed=2\n",
    "\n",
    "params=[u\"C:/Users/Egor/Desktop/Simulatorsgithub/matbio/PoissonSimulator/simulator.exe\",\\\n",
    "    area_size,area_discretization,time_end,time_step,initial_pop,birth_rate,death_rate,birth_var,death_var,seed]\n",
    "\n",
    "\n",
    "\n",
    "params=map(str,params)\n",
    "result = subprocess.check_output(params)\n",
    "traj = pd.read_csv(u\"C:/Users/Egor/Desktop/Simulatorsgithub/matbio/PoissonSimulator/build/apps/traj.txt\", comment='#', header=None)\n"
   ]
  },
  {
   "cell_type": "code",
   "execution_count": null,
   "metadata": {},
   "outputs": [],
   "source": []
  },
  {
   "cell_type": "code",
   "execution_count": 438,
   "metadata": {},
   "outputs": [],
   "source": [
    "traj=traj.iloc[:,1:]"
   ]
  },
  {
   "cell_type": "code",
   "execution_count": 439,
   "metadata": {},
   "outputs": [],
   "source": [
    "time_slice=int(time_end/time_step)\n",
    "\n",
    "coordinates=[]\n",
    "for i in range(0,traj.max(axis=1).max()):\n",
    "    for j in range(0,i):\n",
    "        coordinates.extend(traj.columns[traj.iloc[time_slice,:]==i])"
   ]
  },
  {
   "cell_type": "code",
   "execution_count": 440,
   "metadata": {
    "collapsed": true
   },
   "outputs": [],
   "source": [
    "df=pd.DataFrame(coordinates).sort_values(0)\n",
    "df[\"key\"]=0\n",
    "df[\"index\"]=range(0,len(coordinates))\n",
    "distances=pd.merge(df,df,on = 'key')"
   ]
  },
  {
   "cell_type": "code",
   "execution_count": 449,
   "metadata": {
    "collapsed": true
   },
   "outputs": [],
   "source": [
    "distances_filtered=distances[distances.index_y>distances.index_x]\n",
    "distances_filtered.head()\n",
    "distances_filtered=distances_filtered.assign(dist=abs(distances_filtered['0_x']-distances_filtered['0_y'])/area_discretization*area_size)"
   ]
  },
  {
   "cell_type": "code",
   "execution_count": 484,
   "metadata": {},
   "outputs": [
    {
     "data": {
      "image/png": "[encoded data removed]",
      "text/plain": [
       "<matplotlib.figure.Figure at 0x2428272a518>"
      ]
     },
     "metadata": {},
     "output_type": "display_data"
    }
   ],
   "source": [
    "N=5000\n",
    "data_s=np.array(distances_filtered['dist'].sort_values(0),dtype=np.double)\n",
    "\n",
    "n, bins, patches = plt.hist(data_s,bins=np.linspace(0,N,N)/N*area_size, facecolor='blue', alpha=0.5,weights= np.repeat(0.5*N/data_s.size,data_s.size))\n",
    "axes = plt.gca()\n",
    "axes.set_xlim([0,.1])\n",
    "plt.show()"
   ]
  },
  {
   "cell_type": "code",
   "execution_count": 485,
   "metadata": {},
   "outputs": [
    {
     "data": {
      "image/png": "[encoded data removed]",
      "text/plain": [
       "<matplotlib.figure.Figure at 0x2428b2fc6d8>"
      ]
     },
     "metadata": {},
     "output_type": "display_data"
    }
   ],
   "source": [
    "ecdf = sm.distributions.ECDF(data_s)\n",
    "\n",
    "x = np.linspace(min(data_s), max(data_s),N)\n",
    "y = ecdf(x)/2-x/area_size\n",
    "axes = plt.gca()\n",
    "axes.set_xlim([0,1])\n",
    "axes.set_ylim([-0.005,0.005])\n",
    "plt.step(x, y)\n",
    "plt.show()"
   ]
  },
  {
   "cell_type": "code",
   "execution_count": null,
   "metadata": {
    "collapsed": true
   },
   "outputs": [],
   "source": []
  }
 ],
 "metadata": {
  "kernelspec": {
   "display_name": "Python [conda root]",
   "language": "python",
   "name": "conda-root-py"
  },
  "language_info": {
   "codemirror_mode": {
    "name": "ipython",
    "version": 3
   },
   "file_extension": ".py",
   "mimetype": "text/x-python",
   "name": "python",
   "nbconvert_exporter": "python",
   "pygments_lexer": "ipython3",
   "version": "3.6.2"
  }
 },
 "nbformat": 4,
 "nbformat_minor": 2
}
